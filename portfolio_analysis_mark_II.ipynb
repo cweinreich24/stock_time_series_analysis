{
  "nbformat": 4,
  "nbformat_minor": 0,
  "metadata": {
    "kernelspec": {
      "display_name": "Python 3",
      "language": "python",
      "name": "python3"
    },
    "language_info": {
      "codemirror_mode": {
        "name": "ipython",
        "version": 3
      },
      "file_extension": ".py",
      "mimetype": "text/x-python",
      "name": "python",
      "nbconvert_exporter": "python",
      "pygments_lexer": "ipython3",
      "version": "3.7.6"
    },
    "colab": {
      "name": "portfolio_analysis_mark_II.ipynb",
      "provenance": [],
      "include_colab_link": true
    }
  },
  "cells": [
    {
      "cell_type": "markdown",
      "metadata": {
        "id": "view-in-github",
        "colab_type": "text"
      },
      "source": [
        "<a href=\"https://colab.research.google.com/github/cweinreich24/stock_time_series_analysis/blob/master/portfolio_analysis_mark_II.ipynb\" target=\"_parent\"><img src=\"https://colab.research.google.com/assets/colab-badge.svg\" alt=\"Open In Colab\"/></a>"
      ]
    },
    {
      "cell_type": "code",
      "metadata": {
        "id": "AuIkOpkG_jHi"
      },
      "source": [
        "import pandas as pd\n",
        "import numpy as np\n",
        "import seaborn as sns\n",
        "import matplotlib.pyplot as plt\n",
        "import requests \n",
        "import json"
      ],
      "execution_count": null,
      "outputs": []
    },
    {
      "cell_type": "code",
      "metadata": {
        "id": "oRow4GiU_jHm"
      },
      "source": [
        "stock = requests.get(f'https://financialmodelingprep.com/api/v3/historical-price-full/MSFT')"
      ],
      "execution_count": null,
      "outputs": []
    },
    {
      "cell_type": "code",
      "metadata": {
        "id": "IzX-4MTx_jHn"
      },
      "source": [
        "msft = stock.json()"
      ],
      "execution_count": null,
      "outputs": []
    },
    {
      "cell_type": "code",
      "metadata": {
        "id": "oQjnp2mC_jHo",
        "outputId": "588dd6de-ecd1-4f4f-9e23-8fd56a1a5e12"
      },
      "source": [
        "msft = msft['historical']\n",
        "msft = pd.DataFrame.from_dict(msft)"
      ],
      "execution_count": null,
      "outputs": [
        {
          "output_type": "error",
          "ename": "KeyError",
          "evalue": "'historical'",
          "traceback": [
            "\u001b[1;31m---------------------------------------------------------------------------\u001b[0m",
            "\u001b[1;31mKeyError\u001b[0m                                  Traceback (most recent call last)",
            "\u001b[1;32m<ipython-input-4-d604e1ba86c3>\u001b[0m in \u001b[0;36m<module>\u001b[1;34m\u001b[0m\n\u001b[1;32m----> 1\u001b[1;33m \u001b[0mmsft\u001b[0m \u001b[1;33m=\u001b[0m \u001b[0mmsft\u001b[0m\u001b[1;33m[\u001b[0m\u001b[1;34m'historical'\u001b[0m\u001b[1;33m]\u001b[0m\u001b[1;33m\u001b[0m\u001b[1;33m\u001b[0m\u001b[0m\n\u001b[0m\u001b[0;32m      2\u001b[0m \u001b[0mmsft\u001b[0m \u001b[1;33m=\u001b[0m \u001b[0mpd\u001b[0m\u001b[1;33m.\u001b[0m\u001b[0mDataFrame\u001b[0m\u001b[1;33m.\u001b[0m\u001b[0mfrom_dict\u001b[0m\u001b[1;33m(\u001b[0m\u001b[0mmsft\u001b[0m\u001b[1;33m)\u001b[0m\u001b[1;33m\u001b[0m\u001b[1;33m\u001b[0m\u001b[0m\n",
            "\u001b[1;31mKeyError\u001b[0m: 'historical'"
          ]
        }
      ]
    },
    {
      "cell_type": "code",
      "metadata": {
        "id": "nB77wnwu_jHp"
      },
      "source": [
        ""
      ],
      "execution_count": null,
      "outputs": []
    },
    {
      "cell_type": "code",
      "metadata": {
        "id": "qgM6QHfm_jHp",
        "outputId": "795a4c60-697e-436e-c33f-c4971a1a7f03"
      },
      "source": [
        "prices = msft.sort_values(by='date')\n",
        "prices.head()"
      ],
      "execution_count": null,
      "outputs": [
        {
          "output_type": "execute_result",
          "data": {
            "text/html": [
              "<div>\n",
              "<style scoped>\n",
              "    .dataframe tbody tr th:only-of-type {\n",
              "        vertical-align: middle;\n",
              "    }\n",
              "\n",
              "    .dataframe tbody tr th {\n",
              "        vertical-align: top;\n",
              "    }\n",
              "\n",
              "    .dataframe thead th {\n",
              "        text-align: right;\n",
              "    }\n",
              "</style>\n",
              "<table border=\"1\" class=\"dataframe\">\n",
              "  <thead>\n",
              "    <tr style=\"text-align: right;\">\n",
              "      <th></th>\n",
              "      <th>date</th>\n",
              "      <th>open</th>\n",
              "      <th>high</th>\n",
              "      <th>low</th>\n",
              "      <th>close</th>\n",
              "      <th>adjClose</th>\n",
              "      <th>volume</th>\n",
              "      <th>unadjustedVolume</th>\n",
              "      <th>change</th>\n",
              "      <th>changePercent</th>\n",
              "      <th>vwap</th>\n",
              "      <th>label</th>\n",
              "      <th>changeOverTime</th>\n",
              "    </tr>\n",
              "  </thead>\n",
              "  <tbody>\n",
              "    <tr>\n",
              "      <th>0</th>\n",
              "      <td>2015-05-18</td>\n",
              "      <td>47.98</td>\n",
              "      <td>48.22</td>\n",
              "      <td>47.61</td>\n",
              "      <td>48.01</td>\n",
              "      <td>43.56</td>\n",
              "      <td>24136500.0</td>\n",
              "      <td>24136500.0</td>\n",
              "      <td>0.03</td>\n",
              "      <td>0.063</td>\n",
              "      <td>47.94667</td>\n",
              "      <td>May 18, 15</td>\n",
              "      <td>0.00063</td>\n",
              "    </tr>\n",
              "    <tr>\n",
              "      <th>1</th>\n",
              "      <td>2015-05-19</td>\n",
              "      <td>47.56</td>\n",
              "      <td>47.81</td>\n",
              "      <td>47.18</td>\n",
              "      <td>47.58</td>\n",
              "      <td>43.45</td>\n",
              "      <td>28574800.0</td>\n",
              "      <td>28574800.0</td>\n",
              "      <td>0.02</td>\n",
              "      <td>0.042</td>\n",
              "      <td>47.52333</td>\n",
              "      <td>May 19, 15</td>\n",
              "      <td>0.00042</td>\n",
              "    </tr>\n",
              "    <tr>\n",
              "      <th>2</th>\n",
              "      <td>2015-05-20</td>\n",
              "      <td>47.39</td>\n",
              "      <td>47.93</td>\n",
              "      <td>47.27</td>\n",
              "      <td>47.58</td>\n",
              "      <td>43.45</td>\n",
              "      <td>25047900.0</td>\n",
              "      <td>25047900.0</td>\n",
              "      <td>0.19</td>\n",
              "      <td>0.401</td>\n",
              "      <td>47.59333</td>\n",
              "      <td>May 20, 15</td>\n",
              "      <td>0.00401</td>\n",
              "    </tr>\n",
              "    <tr>\n",
              "      <th>3</th>\n",
              "      <td>2015-05-21</td>\n",
              "      <td>47.28</td>\n",
              "      <td>47.60</td>\n",
              "      <td>47.01</td>\n",
              "      <td>47.42</td>\n",
              "      <td>43.30</td>\n",
              "      <td>22410700.0</td>\n",
              "      <td>22410700.0</td>\n",
              "      <td>0.14</td>\n",
              "      <td>0.296</td>\n",
              "      <td>47.34333</td>\n",
              "      <td>May 21, 15</td>\n",
              "      <td>0.00296</td>\n",
              "    </tr>\n",
              "    <tr>\n",
              "      <th>4</th>\n",
              "      <td>2015-05-22</td>\n",
              "      <td>47.30</td>\n",
              "      <td>47.35</td>\n",
              "      <td>46.82</td>\n",
              "      <td>46.90</td>\n",
              "      <td>42.83</td>\n",
              "      <td>25720600.0</td>\n",
              "      <td>25720600.0</td>\n",
              "      <td>-0.40</td>\n",
              "      <td>-0.846</td>\n",
              "      <td>47.02333</td>\n",
              "      <td>May 22, 15</td>\n",
              "      <td>-0.00846</td>\n",
              "    </tr>\n",
              "  </tbody>\n",
              "</table>\n",
              "</div>"
            ],
            "text/plain": [
              "         date   open   high    low  close  adjClose      volume  \\\n",
              "0  2015-05-18  47.98  48.22  47.61  48.01     43.56  24136500.0   \n",
              "1  2015-05-19  47.56  47.81  47.18  47.58     43.45  28574800.0   \n",
              "2  2015-05-20  47.39  47.93  47.27  47.58     43.45  25047900.0   \n",
              "3  2015-05-21  47.28  47.60  47.01  47.42     43.30  22410700.0   \n",
              "4  2015-05-22  47.30  47.35  46.82  46.90     42.83  25720600.0   \n",
              "\n",
              "   unadjustedVolume  change  changePercent      vwap       label  \\\n",
              "0        24136500.0    0.03          0.063  47.94667  May 18, 15   \n",
              "1        28574800.0    0.02          0.042  47.52333  May 19, 15   \n",
              "2        25047900.0    0.19          0.401  47.59333  May 20, 15   \n",
              "3        22410700.0    0.14          0.296  47.34333  May 21, 15   \n",
              "4        25720600.0   -0.40         -0.846  47.02333  May 22, 15   \n",
              "\n",
              "   changeOverTime  \n",
              "0         0.00063  \n",
              "1         0.00042  \n",
              "2         0.00401  \n",
              "3         0.00296  \n",
              "4        -0.00846  "
            ]
          },
          "metadata": {
            "tags": []
          },
          "execution_count": 5
        }
      ]
    },
    {
      "cell_type": "code",
      "metadata": {
        "id": "ktW3Ov4i_jHq"
      },
      "source": [
        "prices = prices[['date', 'open', 'high', 'low', 'close', 'adjClose']]"
      ],
      "execution_count": null,
      "outputs": []
    },
    {
      "cell_type": "code",
      "metadata": {
        "id": "fEUqKLBG_jHr",
        "outputId": "72bea6f9-ede0-43d0-eb4c-edfbc4aae5c6"
      },
      "source": [
        "prices['returns'] = prices['adjClose'].pct_change()\n",
        "prices.tail()"
      ],
      "execution_count": null,
      "outputs": [
        {
          "output_type": "execute_result",
          "data": {
            "text/html": [
              "<div>\n",
              "<style scoped>\n",
              "    .dataframe tbody tr th:only-of-type {\n",
              "        vertical-align: middle;\n",
              "    }\n",
              "\n",
              "    .dataframe tbody tr th {\n",
              "        vertical-align: top;\n",
              "    }\n",
              "\n",
              "    .dataframe thead th {\n",
              "        text-align: right;\n",
              "    }\n",
              "</style>\n",
              "<table border=\"1\" class=\"dataframe\">\n",
              "  <thead>\n",
              "    <tr style=\"text-align: right;\">\n",
              "      <th></th>\n",
              "      <th>date</th>\n",
              "      <th>open</th>\n",
              "      <th>high</th>\n",
              "      <th>low</th>\n",
              "      <th>close</th>\n",
              "      <th>adjClose</th>\n",
              "      <th>returns</th>\n",
              "    </tr>\n",
              "  </thead>\n",
              "  <tbody>\n",
              "    <tr>\n",
              "      <th>1254</th>\n",
              "      <td>2020-05-11</td>\n",
              "      <td>183.15</td>\n",
              "      <td>187.51</td>\n",
              "      <td>182.85</td>\n",
              "      <td>186.74</td>\n",
              "      <td>186.74</td>\n",
              "      <td>0.011154</td>\n",
              "    </tr>\n",
              "    <tr>\n",
              "      <th>1255</th>\n",
              "      <td>2020-05-12</td>\n",
              "      <td>186.80</td>\n",
              "      <td>187.04</td>\n",
              "      <td>182.30</td>\n",
              "      <td>182.51</td>\n",
              "      <td>182.51</td>\n",
              "      <td>-0.022652</td>\n",
              "    </tr>\n",
              "    <tr>\n",
              "      <th>1256</th>\n",
              "      <td>2020-05-13</td>\n",
              "      <td>182.55</td>\n",
              "      <td>184.05</td>\n",
              "      <td>176.54</td>\n",
              "      <td>179.75</td>\n",
              "      <td>179.75</td>\n",
              "      <td>-0.015122</td>\n",
              "    </tr>\n",
              "    <tr>\n",
              "      <th>1257</th>\n",
              "      <td>2020-05-14</td>\n",
              "      <td>177.54</td>\n",
              "      <td>180.69</td>\n",
              "      <td>175.68</td>\n",
              "      <td>180.53</td>\n",
              "      <td>180.53</td>\n",
              "      <td>0.004339</td>\n",
              "    </tr>\n",
              "    <tr>\n",
              "      <th>1258</th>\n",
              "      <td>2020-05-15</td>\n",
              "      <td>179.06</td>\n",
              "      <td>187.06</td>\n",
              "      <td>177.00</td>\n",
              "      <td>183.16</td>\n",
              "      <td>183.16</td>\n",
              "      <td>0.014568</td>\n",
              "    </tr>\n",
              "  </tbody>\n",
              "</table>\n",
              "</div>"
            ],
            "text/plain": [
              "            date    open    high     low   close  adjClose   returns\n",
              "1254  2020-05-11  183.15  187.51  182.85  186.74    186.74  0.011154\n",
              "1255  2020-05-12  186.80  187.04  182.30  182.51    182.51 -0.022652\n",
              "1256  2020-05-13  182.55  184.05  176.54  179.75    179.75 -0.015122\n",
              "1257  2020-05-14  177.54  180.69  175.68  180.53    180.53  0.004339\n",
              "1258  2020-05-15  179.06  187.06  177.00  183.16    183.16  0.014568"
            ]
          },
          "metadata": {
            "tags": []
          },
          "execution_count": 7
        }
      ]
    },
    {
      "cell_type": "code",
      "metadata": {
        "id": "a-OjMo5J_jHr",
        "outputId": "101d0639-5390-494b-aa25-2c10ff379596"
      },
      "source": [
        "prices['returns'].plot()\n",
        "plt.show()"
      ],
      "execution_count": null,
      "outputs": [
        {
          "output_type": "display_data",
          "data": {
            "image/png": "[encoded data removed]",
            "text/plain": [
              "<Figure size 432x288 with 1 Axes>"
            ]
          },
          "metadata": {
            "tags": [],
            "needs_background": "light"
          }
        }
      ]
    },
    {
      "cell_type": "code",
      "metadata": {
        "id": "CaekkVxE_jHs"
      },
      "source": [
        "percent_return = prices['returns']*100"
      ],
      "execution_count": null,
      "outputs": []
    },
    {
      "cell_type": "code",
      "metadata": {
        "id": "xmMWXa_8_jHs",
        "outputId": "301ca7c6-99fd-4d38-b883-0bdfc49dbad9"
      },
      "source": [
        "returns_plot = percent_return.dropna()\n",
        "plt.hist(returns_plot, bins=75)\n",
        "plt.show()"
      ],
      "execution_count": null,
      "outputs": [
        {
          "output_type": "display_data",
          "data": {
            "image/png": "[encoded data removed]",
            "text/plain": [
              "<Figure size 432x288 with 1 Axes>"
            ]
          },
          "metadata": {
            "tags": [],
            "needs_background": "light"
          }
        }
      ]
    },
    {
      "cell_type": "markdown",
      "metadata": {
        "id": "X3ii4GqE_jHs"
      },
      "source": [
        "# Compare Annual stock prices trends"
      ]
    },
    {
      "cell_type": "code",
      "metadata": {
        "id": "bs203fdY_jHt",
        "outputId": "416da7b2-7a72-43b6-ece0-67d05cada120"
      },
      "source": [
        "prices.head()"
      ],
      "execution_count": null,
      "outputs": [
        {
          "output_type": "execute_result",
          "data": {
            "text/html": [
              "<div>\n",
              "<style scoped>\n",
              "    .dataframe tbody tr th:only-of-type {\n",
              "        vertical-align: middle;\n",
              "    }\n",
              "\n",
              "    .dataframe tbody tr th {\n",
              "        vertical-align: top;\n",
              "    }\n",
              "\n",
              "    .dataframe thead th {\n",
              "        text-align: right;\n",
              "    }\n",
              "</style>\n",
              "<table border=\"1\" class=\"dataframe\">\n",
              "  <thead>\n",
              "    <tr style=\"text-align: right;\">\n",
              "      <th></th>\n",
              "      <th>date</th>\n",
              "      <th>open</th>\n",
              "      <th>high</th>\n",
              "      <th>low</th>\n",
              "      <th>close</th>\n",
              "      <th>adjClose</th>\n",
              "      <th>returns</th>\n",
              "    </tr>\n",
              "  </thead>\n",
              "  <tbody>\n",
              "    <tr>\n",
              "      <th>0</th>\n",
              "      <td>2015-05-18</td>\n",
              "      <td>47.98</td>\n",
              "      <td>48.22</td>\n",
              "      <td>47.61</td>\n",
              "      <td>48.01</td>\n",
              "      <td>43.56</td>\n",
              "      <td>NaN</td>\n",
              "    </tr>\n",
              "    <tr>\n",
              "      <th>1</th>\n",
              "      <td>2015-05-19</td>\n",
              "      <td>47.56</td>\n",
              "      <td>47.81</td>\n",
              "      <td>47.18</td>\n",
              "      <td>47.58</td>\n",
              "      <td>43.45</td>\n",
              "      <td>-0.002525</td>\n",
              "    </tr>\n",
              "    <tr>\n",
              "      <th>2</th>\n",
              "      <td>2015-05-20</td>\n",
              "      <td>47.39</td>\n",
              "      <td>47.93</td>\n",
              "      <td>47.27</td>\n",
              "      <td>47.58</td>\n",
              "      <td>43.45</td>\n",
              "      <td>0.000000</td>\n",
              "    </tr>\n",
              "    <tr>\n",
              "      <th>3</th>\n",
              "      <td>2015-05-21</td>\n",
              "      <td>47.28</td>\n",
              "      <td>47.60</td>\n",
              "      <td>47.01</td>\n",
              "      <td>47.42</td>\n",
              "      <td>43.30</td>\n",
              "      <td>-0.003452</td>\n",
              "    </tr>\n",
              "    <tr>\n",
              "      <th>4</th>\n",
              "      <td>2015-05-22</td>\n",
              "      <td>47.30</td>\n",
              "      <td>47.35</td>\n",
              "      <td>46.82</td>\n",
              "      <td>46.90</td>\n",
              "      <td>42.83</td>\n",
              "      <td>-0.010855</td>\n",
              "    </tr>\n",
              "  </tbody>\n",
              "</table>\n",
              "</div>"
            ],
            "text/plain": [
              "         date   open   high    low  close  adjClose   returns\n",
              "0  2015-05-18  47.98  48.22  47.61  48.01     43.56       NaN\n",
              "1  2015-05-19  47.56  47.81  47.18  47.58     43.45 -0.002525\n",
              "2  2015-05-20  47.39  47.93  47.27  47.58     43.45  0.000000\n",
              "3  2015-05-21  47.28  47.60  47.01  47.42     43.30 -0.003452\n",
              "4  2015-05-22  47.30  47.35  46.82  46.90     42.83 -0.010855"
            ]
          },
          "metadata": {
            "tags": []
          },
          "execution_count": 11
        }
      ]
    },
    {
      "cell_type": "code",
      "metadata": {
        "id": "EUhgSQDe_jHt"
      },
      "source": [
        "msft = prices[['date', 'adjClose']]"
      ],
      "execution_count": null,
      "outputs": []
    },
    {
      "cell_type": "code",
      "metadata": {
        "id": "XO6Jx-Zq_jHt",
        "outputId": "200a8933-c895-43b0-fd1c-eff50663ec37"
      },
      "source": [
        "# Convert date column into datetime series\n",
        "msft.date = pd.to_datetime(msft.date)"
      ],
      "execution_count": null,
      "outputs": [
        {
          "output_type": "stream",
          "text": [
            "C:\\Users\\Chris Weinreich\\anaconda3\\lib\\site-packages\\pandas\\core\\generic.py:5303: SettingWithCopyWarning: \n",
            "A value is trying to be set on a copy of a slice from a DataFrame.\n",
            "Try using .loc[row_indexer,col_indexer] = value instead\n",
            "\n",
            "See the caveats in the documentation: https://pandas.pydata.org/pandas-docs/stable/user_guide/indexing.html#returning-a-view-versus-a-copy\n",
            "  self[name] = value\n"
          ],
          "name": "stderr"
        }
      ]
    },
    {
      "cell_type": "code",
      "metadata": {
        "id": "kJNFAZa1_jHu"
      },
      "source": [
        "#Set datetime column as index\n",
        "msft.set_index('date', inplace=True)"
      ],
      "execution_count": null,
      "outputs": []
    },
    {
      "cell_type": "code",
      "metadata": {
        "scrolled": true,
        "id": "cpeSpF-s_jHu",
        "outputId": "bcf16929-3c6d-4679-ef53-a17e85ff741f"
      },
      "source": [
        "returns = pd.DataFrame()\n",
        "\n",
        "years = ['2016', '2017', '2018', '2019']\n",
        "#Select data for each year and concat dataframes\n",
        "for year in years:\n",
        "    price_per_year = msft.loc[year, ['adjClose']].reset_index(drop=True)\n",
        "    price_per_year.rename(columns={'adjClose': year}, inplace=True)\n",
        "    returns = pd.concat([returns, price_per_year], axis=1)\n",
        "\n",
        "returns.plot()\n",
        "plt.show()"
      ],
      "execution_count": null,
      "outputs": [
        {
          "output_type": "display_data",
          "data": {
            "image/png": "[encoded data removed]",
            "text/plain": [
              "<Figure size 432x288 with 1 Axes>"
            ]
          },
          "metadata": {
            "tags": [],
            "needs_background": "light"
          }
        }
      ]
    },
    {
      "cell_type": "markdown",
      "metadata": {
        "id": "FJMCT3nO_jHu"
      },
      "source": [
        "# Multi-Period Returns"
      ]
    },
    {
      "cell_type": "code",
      "metadata": {
        "id": "rc58rioB_jHu",
        "outputId": "d26dcddb-68e4-47b3-871f-6fb8e7b9d902"
      },
      "source": [
        "msft.columns"
      ],
      "execution_count": null,
      "outputs": [
        {
          "output_type": "execute_result",
          "data": {
            "text/plain": [
              "Index(['adjClose'], dtype='object')"
            ]
          },
          "metadata": {
            "tags": []
          },
          "execution_count": 16
        }
      ]
    },
    {
      "cell_type": "code",
      "metadata": {
        "scrolled": true,
        "id": "iqRLduAT_jHv",
        "outputId": "26523bdd-2640-418e-ac1c-b0ecc5539146"
      },
      "source": [
        "msft['daily_returns'] = msft['adjClose'].pct_change().mul(100)\n",
        "msft['monthly_return'] = msft['adjClose'].pct_change(periods=30).mul(100)\n",
        "msft['annual_return'] = msft['adjClose'].pct_change(periods=360).mul(100)"
      ],
      "execution_count": null,
      "outputs": [
        {
          "output_type": "stream",
          "text": [
            "C:\\Users\\Chris Weinreich\\anaconda3\\lib\\site-packages\\ipykernel_launcher.py:1: SettingWithCopyWarning: \n",
            "A value is trying to be set on a copy of a slice from a DataFrame.\n",
            "Try using .loc[row_indexer,col_indexer] = value instead\n",
            "\n",
            "See the caveats in the documentation: https://pandas.pydata.org/pandas-docs/stable/user_guide/indexing.html#returning-a-view-versus-a-copy\n",
            "  \"\"\"Entry point for launching an IPython kernel.\n",
            "C:\\Users\\Chris Weinreich\\anaconda3\\lib\\site-packages\\ipykernel_launcher.py:2: SettingWithCopyWarning: \n",
            "A value is trying to be set on a copy of a slice from a DataFrame.\n",
            "Try using .loc[row_indexer,col_indexer] = value instead\n",
            "\n",
            "See the caveats in the documentation: https://pandas.pydata.org/pandas-docs/stable/user_guide/indexing.html#returning-a-view-versus-a-copy\n",
            "  \n",
            "C:\\Users\\Chris Weinreich\\anaconda3\\lib\\site-packages\\ipykernel_launcher.py:3: SettingWithCopyWarning: \n",
            "A value is trying to be set on a copy of a slice from a DataFrame.\n",
            "Try using .loc[row_indexer,col_indexer] = value instead\n",
            "\n",
            "See the caveats in the documentation: https://pandas.pydata.org/pandas-docs/stable/user_guide/indexing.html#returning-a-view-versus-a-copy\n",
            "  This is separate from the ipykernel package so we can avoid doing imports until\n"
          ],
          "name": "stderr"
        }
      ]
    },
    {
      "cell_type": "code",
      "metadata": {
        "id": "crkfFvgZ_jHv",
        "outputId": "4d2b4688-9687-4c05-cc19-cb81f7845f89"
      },
      "source": [
        "msft.plot(subplots=True)\n",
        "plt.show()"
      ],
      "execution_count": null,
      "outputs": [
        {
          "output_type": "display_data",
          "data": {
            "image/png": "[encoded data removed]",
            "text/plain": [
              "<Figure size 432x288 with 4 Axes>"
            ]
          },
          "metadata": {
            "tags": [],
            "needs_background": "light"
          }
        }
      ]
    },
    {
      "cell_type": "markdown",
      "metadata": {
        "id": "xpy9HUxn_jHv"
      },
      "source": [
        "# Average Annualized Return=((1+μ)252)−1"
      ]
    },
    {
      "cell_type": "markdown",
      "metadata": {
        "id": "5aGFlzVv_jHw"
      },
      "source": [
        "# Mu"
      ]
    },
    {
      "cell_type": "code",
      "metadata": {
        "id": "Jn2djav__jHw",
        "outputId": "f3266944-0931-40f7-ca53-fbbf50926011"
      },
      "source": [
        "#Get the average daily return of the stock\n",
        "avg_return_daily = np.mean(prices['returns'])\n",
        "avg_return_daily"
      ],
      "execution_count": null,
      "outputs": [
        {
          "output_type": "execute_result",
          "data": {
            "text/plain": [
              "0.001289904377058439"
            ]
          },
          "metadata": {
            "tags": []
          },
          "execution_count": 19
        }
      ]
    },
    {
      "cell_type": "code",
      "metadata": {
        "id": "lkU8qM_f_jHw",
        "outputId": "6b990d27-f9cc-41c1-cfb6-005de926bc88"
      },
      "source": [
        "# Get the annual averate return\n",
        "avg_return_annualized = ((1+np.mean(prices['returns']))**252)-1\n",
        "avg_return_annualized"
      ],
      "execution_count": null,
      "outputs": [
        {
          "output_type": "execute_result",
          "data": {
            "text/plain": [
              "0.38381812724510245"
            ]
          },
          "metadata": {
            "tags": []
          },
          "execution_count": 20
        }
      ]
    },
    {
      "cell_type": "markdown",
      "metadata": {
        "id": "ZgPpVOLH_jHx"
      },
      "source": [
        "# Volatility"
      ]
    },
    {
      "cell_type": "code",
      "metadata": {
        "id": "NyKzqJ7y_jHx",
        "outputId": "05bf5abb-f243-44a5-ecb2-f1f35be78b2c"
      },
      "source": [
        "#What is the standard deviation of the daily return on the stock\n",
        "std_daily = np.std(prices['returns'])\n",
        "std_daily"
      ],
      "execution_count": null,
      "outputs": [
        {
          "output_type": "execute_result",
          "data": {
            "text/plain": [
              "0.01719020533212225"
            ]
          },
          "metadata": {
            "tags": []
          },
          "execution_count": 21
        }
      ]
    },
    {
      "cell_type": "code",
      "metadata": {
        "id": "iz5T_glr_jHx",
        "outputId": "821974dc-69ad-40e5-d9f4-ddea5023e697"
      },
      "source": [
        "#daily variance\n",
        "daily_variance = np.std(prices['returns'])**2\n",
        "daily_variance"
      ],
      "execution_count": null,
      "outputs": [
        {
          "output_type": "execute_result",
          "data": {
            "text/plain": [
              "0.00029550315936052425"
            ]
          },
          "metadata": {
            "tags": []
          },
          "execution_count": 22
        }
      ]
    },
    {
      "cell_type": "markdown",
      "metadata": {
        "id": "pIP-Zr5J_jHx"
      },
      "source": [
        "# Annualizing Variance"
      ]
    },
    {
      "cell_type": "code",
      "metadata": {
        "id": "5hJD44Ka_jHy",
        "outputId": "74cbf203-dde5-4726-aa78-1986db010460"
      },
      "source": [
        "#Annualize standard deviation\n",
        "std_annual = std_daily * np.sqrt(252)\n",
        "\n",
        "#Annualize variance\n",
        "annual_variance = std_annual**2\n",
        "\n",
        "print(std_annual, annual_variance)"
      ],
      "execution_count": null,
      "outputs": [
        {
          "output_type": "stream",
          "text": [
            "0.27288604976959174 0.0744667961588521\n"
          ],
          "name": "stdout"
        }
      ]
    },
    {
      "cell_type": "markdown",
      "metadata": {
        "id": "_bfr-OVw_jHy"
      },
      "source": [
        "# Skewness"
      ]
    },
    {
      "cell_type": "code",
      "metadata": {
        "id": "1qJ-rhzi_jHy"
      },
      "source": [
        "from scipy.stats import skew"
      ],
      "execution_count": null,
      "outputs": []
    },
    {
      "cell_type": "code",
      "metadata": {
        "id": "2bcfO9iy_jHy"
      },
      "source": [
        "#Drop the missing value\n",
        "clean_returns = prices['returns'].dropna()"
      ],
      "execution_count": null,
      "outputs": []
    },
    {
      "cell_type": "code",
      "metadata": {
        "id": "td_dx_m0_jHy",
        "outputId": "da638a1e-e972-41f9-f91e-72f567d09193"
      },
      "source": [
        "#Calculate the skewness of the returns distribution\n",
        "returns_skewness = skew(prices['returns'].dropna())\n",
        "returns_skewness"
      ],
      "execution_count": null,
      "outputs": [
        {
          "output_type": "execute_result",
          "data": {
            "text/plain": [
              "0.17837918467168487"
            ]
          },
          "metadata": {
            "tags": []
          },
          "execution_count": 26
        }
      ]
    },
    {
      "cell_type": "markdown",
      "metadata": {
        "id": "DtNQ7Qhc_jHy"
      },
      "source": [
        "# Kurtosis"
      ]
    },
    {
      "cell_type": "code",
      "metadata": {
        "id": "KiLGGbCy_jHz"
      },
      "source": [
        "from scipy.stats import kurtosis"
      ],
      "execution_count": null,
      "outputs": []
    },
    {
      "cell_type": "code",
      "metadata": {
        "id": "wq3uD7aD_jHz",
        "outputId": "d07a3849-990d-4969-b6e5-6a3ab25c9e0d"
      },
      "source": [
        "#Calculate the exces kurtosis of the returns distribution\n",
        "excess_kurtosis = kurtosis(clean_returns)\n",
        "excess_kurtosis"
      ],
      "execution_count": null,
      "outputs": [
        {
          "output_type": "execute_result",
          "data": {
            "text/plain": [
              "12.172426973486132"
            ]
          },
          "metadata": {
            "tags": []
          },
          "execution_count": 28
        }
      ]
    },
    {
      "cell_type": "code",
      "metadata": {
        "id": "9jAxfuRw_jHz",
        "outputId": "bdc6c6fd-b4d0-4d25-b992-ce29afc4d4fc"
      },
      "source": [
        "#Get the true fourth moment of the returns distribtion\n",
        "fourth_moment = excess_kurtosis + 3\n",
        "fourth_moment"
      ],
      "execution_count": null,
      "outputs": [
        {
          "output_type": "execute_result",
          "data": {
            "text/plain": [
              "15.172426973486132"
            ]
          },
          "metadata": {
            "tags": []
          },
          "execution_count": 29
        }
      ]
    },
    {
      "cell_type": "markdown",
      "metadata": {
        "id": "TReVemhk_jHz"
      },
      "source": [
        "# Statistical tests for normality"
      ]
    },
    {
      "cell_type": "code",
      "metadata": {
        "id": "tMSHEYkP_jHz"
      },
      "source": [
        "from scipy.stats import shapiro"
      ],
      "execution_count": null,
      "outputs": []
    },
    {
      "cell_type": "code",
      "metadata": {
        "id": "AhYMn_H9_jHz",
        "outputId": "fa539a25-8bbb-4b74-be0f-b549051d631d"
      },
      "source": [
        "#Run a Shapiro-Wilk test on the stock returns\n",
        "shapiro_results = shapiro(clean_returns)\n",
        "print('Shapiro results:', shapiro_results)"
      ],
      "execution_count": null,
      "outputs": [
        {
          "output_type": "stream",
          "text": [
            "Shapiro results: (0.8749287128448486, 1.3241123837153935e-30)\n"
          ],
          "name": "stdout"
        }
      ]
    },
    {
      "cell_type": "code",
      "metadata": {
        "id": "WSzmks4Z_jH0",
        "outputId": "d4fb71a1-9e4a-443e-c940-567337c7ba6f"
      },
      "source": [
        "#What is the p-value from the Shapiro test\n",
        "p_value = shapiro_results[1]\n",
        "print('P-value:', p_value)"
      ],
      "execution_count": null,
      "outputs": [
        {
          "output_type": "stream",
          "text": [
            "P-value: 1.3241123837153935e-30\n"
          ],
          "name": "stdout"
        }
      ]
    },
    {
      "cell_type": "code",
      "metadata": {
        "id": "fUS0697k_jH0"
      },
      "source": [
        "#The p-value is greater than zero, so the null hypothesis of normality is accepted"
      ],
      "execution_count": null,
      "outputs": []
    },
    {
      "cell_type": "markdown",
      "metadata": {
        "id": "upHphuq7_jH0"
      },
      "source": [
        "# Calculate Portfolio Returns"
      ]
    },
    {
      "cell_type": "code",
      "metadata": {
        "id": "Nu7tgcLC_jH1"
      },
      "source": [
        "def get_returns(ticker):\n",
        "    stock = requests.get(f'https://financialmodelingprep.com/api/v3/historical-price-full/{ticker}')\n",
        "    stock = stock.json()\n",
        "    stock = stock['historical']\n",
        "    stock = pd.DataFrame.from_dict(stock)\n",
        "    stock = stock.sort_values(by='date')\n",
        "    stock = stock[['date','adjClose']]\n",
        "    stock = stock.rename(columns={'adjClose': ticker})\n",
        "    stock = stock[ticker].pct_change()\n",
        "    stock = pd.DataFrame(stock)\n",
        "    return stock"
      ],
      "execution_count": null,
      "outputs": []
    },
    {
      "cell_type": "code",
      "metadata": {
        "id": "YKxwXnnZ_jH1"
      },
      "source": [
        "chase = get_returns('JPM')\n",
        "visa = get_returns('V')\n",
        "chase = get_returns('JPM')\n",
        "visa = get_returns('V')\n",
        "costco = get_returns('COST')\n",
        "amd = get_returns('AMD')\n",
        "nvidia = get_returns('NVDA')\n",
        "target = get_returns('TGT')\n",
        "apple = get_returns('AAPL')\n",
        "microsoft = get_returns('MSFT')\n",
        "disney = get_returns('DIS')"
      ],
      "execution_count": null,
      "outputs": []
    },
    {
      "cell_type": "code",
      "metadata": {
        "id": "0iSPE8XQ_jH1",
        "outputId": "d58967a1-a5ee-47b4-b103-31845755cf99"
      },
      "source": [
        "returns = pd.concat([amd, costco, chase, visa, disney, target, nvidia, apple, microsoft], axis=1)\n",
        "returns"
      ],
      "execution_count": null,
      "outputs": [
        {
          "output_type": "execute_result",
          "data": {
            "text/html": [
              "<div>\n",
              "<style scoped>\n",
              "    .dataframe tbody tr th:only-of-type {\n",
              "        vertical-align: middle;\n",
              "    }\n",
              "\n",
              "    .dataframe tbody tr th {\n",
              "        vertical-align: top;\n",
              "    }\n",
              "\n",
              "    .dataframe thead th {\n",
              "        text-align: right;\n",
              "    }\n",
              "</style>\n",
              "<table border=\"1\" class=\"dataframe\">\n",
              "  <thead>\n",
              "    <tr style=\"text-align: right;\">\n",
              "      <th></th>\n",
              "      <th>AMD</th>\n",
              "      <th>COST</th>\n",
              "      <th>JPM</th>\n",
              "      <th>V</th>\n",
              "      <th>DIS</th>\n",
              "      <th>TGT</th>\n",
              "      <th>NVDA</th>\n",
              "      <th>AAPL</th>\n",
              "      <th>MSFT</th>\n",
              "    </tr>\n",
              "  </thead>\n",
              "  <tbody>\n",
              "    <tr>\n",
              "      <th>0</th>\n",
              "      <td>NaN</td>\n",
              "      <td>NaN</td>\n",
              "      <td>NaN</td>\n",
              "      <td>NaN</td>\n",
              "      <td>NaN</td>\n",
              "      <td>NaN</td>\n",
              "      <td>NaN</td>\n",
              "      <td>NaN</td>\n",
              "      <td>NaN</td>\n",
              "    </tr>\n",
              "    <tr>\n",
              "      <th>1</th>\n",
              "      <td>-0.029787</td>\n",
              "      <td>-0.002254</td>\n",
              "      <td>0.008796</td>\n",
              "      <td>0.002359</td>\n",
              "      <td>0.002042</td>\n",
              "      <td>-0.005617</td>\n",
              "      <td>-0.006311</td>\n",
              "      <td>-0.000914</td>\n",
              "      <td>-0.002525</td>\n",
              "    </tr>\n",
              "    <tr>\n",
              "      <th>2</th>\n",
              "      <td>0.017544</td>\n",
              "      <td>-0.008585</td>\n",
              "      <td>-0.007881</td>\n",
              "      <td>-0.005442</td>\n",
              "      <td>-0.003203</td>\n",
              "      <td>0.003270</td>\n",
              "      <td>0.000000</td>\n",
              "      <td>-0.000083</td>\n",
              "      <td>0.000000</td>\n",
              "    </tr>\n",
              "    <tr>\n",
              "      <th>3</th>\n",
              "      <td>-0.017241</td>\n",
              "      <td>0.003114</td>\n",
              "      <td>0.002535</td>\n",
              "      <td>-0.005915</td>\n",
              "      <td>0.001655</td>\n",
              "      <td>0.015558</td>\n",
              "      <td>-0.006839</td>\n",
              "      <td>0.010234</td>\n",
              "      <td>-0.003452</td>\n",
              "    </tr>\n",
              "    <tr>\n",
              "      <th>4</th>\n",
              "      <td>0.000000</td>\n",
              "      <td>-0.001817</td>\n",
              "      <td>-0.002697</td>\n",
              "      <td>0.003570</td>\n",
              "      <td>-0.001166</td>\n",
              "      <td>-0.001313</td>\n",
              "      <td>-0.001476</td>\n",
              "      <td>0.008730</td>\n",
              "      <td>-0.010855</td>\n",
              "    </tr>\n",
              "    <tr>\n",
              "      <th>...</th>\n",
              "      <td>...</td>\n",
              "      <td>...</td>\n",
              "      <td>...</td>\n",
              "      <td>...</td>\n",
              "      <td>...</td>\n",
              "      <td>...</td>\n",
              "      <td>...</td>\n",
              "      <td>...</td>\n",
              "      <td>...</td>\n",
              "    </tr>\n",
              "    <tr>\n",
              "      <th>1254</th>\n",
              "      <td>0.047941</td>\n",
              "      <td>0.014349</td>\n",
              "      <td>-0.029450</td>\n",
              "      <td>-0.009941</td>\n",
              "      <td>-0.012734</td>\n",
              "      <td>0.037555</td>\n",
              "      <td>0.032384</td>\n",
              "      <td>0.015735</td>\n",
              "      <td>0.011154</td>\n",
              "    </tr>\n",
              "    <tr>\n",
              "      <th>1255</th>\n",
              "      <td>-0.035522</td>\n",
              "      <td>-0.017691</td>\n",
              "      <td>-0.032678</td>\n",
              "      <td>-0.022265</td>\n",
              "      <td>-0.029786</td>\n",
              "      <td>-0.006573</td>\n",
              "      <td>-0.032608</td>\n",
              "      <td>-0.011428</td>\n",
              "      <td>-0.022652</td>\n",
              "    </tr>\n",
              "    <tr>\n",
              "      <th>1256</th>\n",
              "      <td>-0.029390</td>\n",
              "      <td>-0.008857</td>\n",
              "      <td>-0.034471</td>\n",
              "      <td>-0.011609</td>\n",
              "      <td>-0.015685</td>\n",
              "      <td>-0.002094</td>\n",
              "      <td>-0.002884</td>\n",
              "      <td>-0.012074</td>\n",
              "      <td>-0.015122</td>\n",
              "    </tr>\n",
              "    <tr>\n",
              "      <th>1257</th>\n",
              "      <td>0.044653</td>\n",
              "      <td>-0.007943</td>\n",
              "      <td>0.041533</td>\n",
              "      <td>0.021514</td>\n",
              "      <td>0.029052</td>\n",
              "      <td>0.006715</td>\n",
              "      <td>0.032198</td>\n",
              "      <td>0.006143</td>\n",
              "      <td>0.004339</td>\n",
              "    </tr>\n",
              "    <tr>\n",
              "      <th>1258</th>\n",
              "      <td>-0.005687</td>\n",
              "      <td>-0.001768</td>\n",
              "      <td>-0.018510</td>\n",
              "      <td>0.014317</td>\n",
              "      <td>0.029648</td>\n",
              "      <td>0.008338</td>\n",
              "      <td>0.057313</td>\n",
              "      <td>-0.005912</td>\n",
              "      <td>0.014568</td>\n",
              "    </tr>\n",
              "  </tbody>\n",
              "</table>\n",
              "<p>1259 rows × 9 columns</p>\n",
              "</div>"
            ],
            "text/plain": [
              "           AMD      COST       JPM         V       DIS       TGT      NVDA  \\\n",
              "0          NaN       NaN       NaN       NaN       NaN       NaN       NaN   \n",
              "1    -0.029787 -0.002254  0.008796  0.002359  0.002042 -0.005617 -0.006311   \n",
              "2     0.017544 -0.008585 -0.007881 -0.005442 -0.003203  0.003270  0.000000   \n",
              "3    -0.017241  0.003114  0.002535 -0.005915  0.001655  0.015558 -0.006839   \n",
              "4     0.000000 -0.001817 -0.002697  0.003570 -0.001166 -0.001313 -0.001476   \n",
              "...        ...       ...       ...       ...       ...       ...       ...   \n",
              "1254  0.047941  0.014349 -0.029450 -0.009941 -0.012734  0.037555  0.032384   \n",
              "1255 -0.035522 -0.017691 -0.032678 -0.022265 -0.029786 -0.006573 -0.032608   \n",
              "1256 -0.029390 -0.008857 -0.034471 -0.011609 -0.015685 -0.002094 -0.002884   \n",
              "1257  0.044653 -0.007943  0.041533  0.021514  0.029052  0.006715  0.032198   \n",
              "1258 -0.005687 -0.001768 -0.018510  0.014317  0.029648  0.008338  0.057313   \n",
              "\n",
              "          AAPL      MSFT  \n",
              "0          NaN       NaN  \n",
              "1    -0.000914 -0.002525  \n",
              "2    -0.000083  0.000000  \n",
              "3     0.010234 -0.003452  \n",
              "4     0.008730 -0.010855  \n",
              "...        ...       ...  \n",
              "1254  0.015735  0.011154  \n",
              "1255 -0.011428 -0.022652  \n",
              "1256 -0.012074 -0.015122  \n",
              "1257  0.006143  0.004339  \n",
              "1258 -0.005912  0.014568  \n",
              "\n",
              "[1259 rows x 9 columns]"
            ]
          },
          "metadata": {
            "tags": []
          },
          "execution_count": 36
        }
      ]
    },
    {
      "cell_type": "code",
      "metadata": {
        "id": "j1NsiAIO_jH1"
      },
      "source": [
        "portfolio_weights = np.array([0.12, 0.15, 0.08, 0.05, 0.09, 0.10, 0.11, 0.14, 0.16])"
      ],
      "execution_count": null,
      "outputs": []
    },
    {
      "cell_type": "code",
      "metadata": {
        "id": "2PcPvEDA_jH1"
      },
      "source": [
        "# Calculate the weighted stock returns\n",
        "weighted_returns = returns.mul(portfolio_weights, axis=1)"
      ],
      "execution_count": null,
      "outputs": []
    },
    {
      "cell_type": "code",
      "metadata": {
        "id": "CVSlYizh_jH1"
      },
      "source": [
        "# Calculate the portfolio returns\n",
        "returns['portfolio'] = weighted_returns.sum(axis=1)"
      ],
      "execution_count": null,
      "outputs": []
    },
    {
      "cell_type": "code",
      "metadata": {
        "id": "aa8gNYm3_jH2",
        "outputId": "43b5b63c-e6cd-4e85-e11b-bf97dd0e2860"
      },
      "source": [
        "# Plot the cumulative portfolio returns over time\n",
        "cumulative_returns = ((1+returns['portfolio']).cumprod()-1)\n",
        "cumulative_returns.plot()\n",
        "plt.show()"
      ],
      "execution_count": null,
      "outputs": [
        {
          "output_type": "display_data",
          "data": {
            "image/png": "[encoded data removed]",
            "text/plain": [
              "<Figure size 432x288 with 1 Axes>"
            ]
          },
          "metadata": {
            "tags": [],
            "needs_background": "light"
          }
        }
      ]
    },
    {
      "cell_type": "markdown",
      "metadata": {
        "id": "JWe6ymle_jH3"
      },
      "source": [
        "# Equal weighted portfolios"
      ]
    },
    {
      "cell_type": "code",
      "metadata": {
        "id": "VmUScSWe_jH3"
      },
      "source": [
        "#How many stocks in this portfolio?\n",
        "num_stocks = 9"
      ],
      "execution_count": null,
      "outputs": []
    },
    {
      "cell_type": "code",
      "metadata": {
        "id": "5BP7j3nC_jH3"
      },
      "source": [
        "#Create an array of equal weights\n",
        "portfolio_weights_ew = np.repeat(1/num_stocks, num_stocks)"
      ],
      "execution_count": null,
      "outputs": []
    },
    {
      "cell_type": "code",
      "metadata": {
        "id": "iprAfPPt_jH3"
      },
      "source": [
        "# Calculate the equally weighted portfolio returns\n",
        "returns['portfolio_ew'] = returns.iloc[:, 0:num_stocks].mul(portfolio_weights_ew, axis=1).sum(axis=1)"
      ],
      "execution_count": null,
      "outputs": []
    },
    {
      "cell_type": "code",
      "metadata": {
        "id": "Rf_HcchM_jH3",
        "outputId": "93a365e4-989f-4aa5-da91-19fc9183ce39"
      },
      "source": [
        "#Plot our portfolios\n",
        "ew_returns = ((1+returns['portfolio_ew']).cumprod()-1)\n",
        "ew_returns.plot()\n",
        "plt.show()"
      ],
      "execution_count": null,
      "outputs": [
        {
          "output_type": "display_data",
          "data": {
            "image/png": "[encoded data removed]",
            "text/plain": [
              "<Figure size 432x288 with 1 Axes>"
            ]
          },
          "metadata": {
            "tags": [],
            "needs_background": "light"
          }
        }
      ]
    },
    {
      "cell_type": "markdown",
      "metadata": {
        "id": "4qfmJLYl_jH3"
      },
      "source": [
        "# Correlation Matrix"
      ]
    },
    {
      "cell_type": "code",
      "metadata": {
        "id": "PbjZ6CS5_jH3",
        "outputId": "a854248e-3485-4308-9465-a76e007e544e"
      },
      "source": [
        "returns.head()"
      ],
      "execution_count": null,
      "outputs": [
        {
          "output_type": "execute_result",
          "data": {
            "text/html": [
              "<div>\n",
              "<style scoped>\n",
              "    .dataframe tbody tr th:only-of-type {\n",
              "        vertical-align: middle;\n",
              "    }\n",
              "\n",
              "    .dataframe tbody tr th {\n",
              "        vertical-align: top;\n",
              "    }\n",
              "\n",
              "    .dataframe thead th {\n",
              "        text-align: right;\n",
              "    }\n",
              "</style>\n",
              "<table border=\"1\" class=\"dataframe\">\n",
              "  <thead>\n",
              "    <tr style=\"text-align: right;\">\n",
              "      <th></th>\n",
              "      <th>AMD</th>\n",
              "      <th>COST</th>\n",
              "      <th>JPM</th>\n",
              "      <th>V</th>\n",
              "      <th>DIS</th>\n",
              "      <th>TGT</th>\n",
              "      <th>NVDA</th>\n",
              "      <th>AAPL</th>\n",
              "      <th>MSFT</th>\n",
              "      <th>portfolio</th>\n",
              "      <th>portfolio_ew</th>\n",
              "    </tr>\n",
              "  </thead>\n",
              "  <tbody>\n",
              "    <tr>\n",
              "      <th>0</th>\n",
              "      <td>NaN</td>\n",
              "      <td>NaN</td>\n",
              "      <td>NaN</td>\n",
              "      <td>NaN</td>\n",
              "      <td>NaN</td>\n",
              "      <td>NaN</td>\n",
              "      <td>NaN</td>\n",
              "      <td>NaN</td>\n",
              "      <td>NaN</td>\n",
              "      <td>0.000000</td>\n",
              "      <td>0.000000</td>\n",
              "    </tr>\n",
              "    <tr>\n",
              "      <th>1</th>\n",
              "      <td>-0.029787</td>\n",
              "      <td>-0.002254</td>\n",
              "      <td>0.008796</td>\n",
              "      <td>0.002359</td>\n",
              "      <td>0.002042</td>\n",
              "      <td>-0.005617</td>\n",
              "      <td>-0.006311</td>\n",
              "      <td>-0.000914</td>\n",
              "      <td>-0.002525</td>\n",
              "      <td>-0.004695</td>\n",
              "      <td>-0.003801</td>\n",
              "    </tr>\n",
              "    <tr>\n",
              "      <th>2</th>\n",
              "      <td>0.017544</td>\n",
              "      <td>-0.008585</td>\n",
              "      <td>-0.007881</td>\n",
              "      <td>-0.005442</td>\n",
              "      <td>-0.003203</td>\n",
              "      <td>0.003270</td>\n",
              "      <td>0.000000</td>\n",
              "      <td>-0.000083</td>\n",
              "      <td>0.000000</td>\n",
              "      <td>-0.000058</td>\n",
              "      <td>-0.000487</td>\n",
              "    </tr>\n",
              "    <tr>\n",
              "      <th>3</th>\n",
              "      <td>-0.017241</td>\n",
              "      <td>0.003114</td>\n",
              "      <td>0.002535</td>\n",
              "      <td>-0.005915</td>\n",
              "      <td>0.001655</td>\n",
              "      <td>0.015558</td>\n",
              "      <td>-0.006839</td>\n",
              "      <td>0.010234</td>\n",
              "      <td>-0.003452</td>\n",
              "      <td>0.000138</td>\n",
              "      <td>-0.000039</td>\n",
              "    </tr>\n",
              "    <tr>\n",
              "      <th>4</th>\n",
              "      <td>0.000000</td>\n",
              "      <td>-0.001817</td>\n",
              "      <td>-0.002697</td>\n",
              "      <td>0.003570</td>\n",
              "      <td>-0.001166</td>\n",
              "      <td>-0.001313</td>\n",
              "      <td>-0.001476</td>\n",
              "      <td>0.008730</td>\n",
              "      <td>-0.010855</td>\n",
              "      <td>-0.001223</td>\n",
              "      <td>-0.000780</td>\n",
              "    </tr>\n",
              "  </tbody>\n",
              "</table>\n",
              "</div>"
            ],
            "text/plain": [
              "        AMD      COST       JPM         V       DIS       TGT      NVDA  \\\n",
              "0       NaN       NaN       NaN       NaN       NaN       NaN       NaN   \n",
              "1 -0.029787 -0.002254  0.008796  0.002359  0.002042 -0.005617 -0.006311   \n",
              "2  0.017544 -0.008585 -0.007881 -0.005442 -0.003203  0.003270  0.000000   \n",
              "3 -0.017241  0.003114  0.002535 -0.005915  0.001655  0.015558 -0.006839   \n",
              "4  0.000000 -0.001817 -0.002697  0.003570 -0.001166 -0.001313 -0.001476   \n",
              "\n",
              "       AAPL      MSFT  portfolio  portfolio_ew  \n",
              "0       NaN       NaN   0.000000      0.000000  \n",
              "1 -0.000914 -0.002525  -0.004695     -0.003801  \n",
              "2 -0.000083  0.000000  -0.000058     -0.000487  \n",
              "3  0.010234 -0.003452   0.000138     -0.000039  \n",
              "4  0.008730 -0.010855  -0.001223     -0.000780  "
            ]
          },
          "metadata": {
            "tags": []
          },
          "execution_count": 58
        }
      ]
    },
    {
      "cell_type": "code",
      "metadata": {
        "id": "Fnr5HIwC_jH3",
        "outputId": "fe75a864-b56c-4b29-9808-e1ecc3b66c01"
      },
      "source": [
        "returns = returns.drop(['portfolio', 'portfolio_ew'], axis=1)\n",
        "returns.head()"
      ],
      "execution_count": null,
      "outputs": [
        {
          "output_type": "execute_result",
          "data": {
            "text/html": [
              "<div>\n",
              "<style scoped>\n",
              "    .dataframe tbody tr th:only-of-type {\n",
              "        vertical-align: middle;\n",
              "    }\n",
              "\n",
              "    .dataframe tbody tr th {\n",
              "        vertical-align: top;\n",
              "    }\n",
              "\n",
              "    .dataframe thead th {\n",
              "        text-align: right;\n",
              "    }\n",
              "</style>\n",
              "<table border=\"1\" class=\"dataframe\">\n",
              "  <thead>\n",
              "    <tr style=\"text-align: right;\">\n",
              "      <th></th>\n",
              "      <th>AMD</th>\n",
              "      <th>COST</th>\n",
              "      <th>JPM</th>\n",
              "      <th>V</th>\n",
              "      <th>DIS</th>\n",
              "      <th>TGT</th>\n",
              "      <th>NVDA</th>\n",
              "      <th>AAPL</th>\n",
              "      <th>MSFT</th>\n",
              "    </tr>\n",
              "  </thead>\n",
              "  <tbody>\n",
              "    <tr>\n",
              "      <th>0</th>\n",
              "      <td>NaN</td>\n",
              "      <td>NaN</td>\n",
              "      <td>NaN</td>\n",
              "      <td>NaN</td>\n",
              "      <td>NaN</td>\n",
              "      <td>NaN</td>\n",
              "      <td>NaN</td>\n",
              "      <td>NaN</td>\n",
              "      <td>NaN</td>\n",
              "    </tr>\n",
              "    <tr>\n",
              "      <th>1</th>\n",
              "      <td>-0.029787</td>\n",
              "      <td>-0.002254</td>\n",
              "      <td>0.008796</td>\n",
              "      <td>0.002359</td>\n",
              "      <td>0.002042</td>\n",
              "      <td>-0.005617</td>\n",
              "      <td>-0.006311</td>\n",
              "      <td>-0.000914</td>\n",
              "      <td>-0.002525</td>\n",
              "    </tr>\n",
              "    <tr>\n",
              "      <th>2</th>\n",
              "      <td>0.017544</td>\n",
              "      <td>-0.008585</td>\n",
              "      <td>-0.007881</td>\n",
              "      <td>-0.005442</td>\n",
              "      <td>-0.003203</td>\n",
              "      <td>0.003270</td>\n",
              "      <td>0.000000</td>\n",
              "      <td>-0.000083</td>\n",
              "      <td>0.000000</td>\n",
              "    </tr>\n",
              "    <tr>\n",
              "      <th>3</th>\n",
              "      <td>-0.017241</td>\n",
              "      <td>0.003114</td>\n",
              "      <td>0.002535</td>\n",
              "      <td>-0.005915</td>\n",
              "      <td>0.001655</td>\n",
              "      <td>0.015558</td>\n",
              "      <td>-0.006839</td>\n",
              "      <td>0.010234</td>\n",
              "      <td>-0.003452</td>\n",
              "    </tr>\n",
              "    <tr>\n",
              "      <th>4</th>\n",
              "      <td>0.000000</td>\n",
              "      <td>-0.001817</td>\n",
              "      <td>-0.002697</td>\n",
              "      <td>0.003570</td>\n",
              "      <td>-0.001166</td>\n",
              "      <td>-0.001313</td>\n",
              "      <td>-0.001476</td>\n",
              "      <td>0.008730</td>\n",
              "      <td>-0.010855</td>\n",
              "    </tr>\n",
              "  </tbody>\n",
              "</table>\n",
              "</div>"
            ],
            "text/plain": [
              "        AMD      COST       JPM         V       DIS       TGT      NVDA  \\\n",
              "0       NaN       NaN       NaN       NaN       NaN       NaN       NaN   \n",
              "1 -0.029787 -0.002254  0.008796  0.002359  0.002042 -0.005617 -0.006311   \n",
              "2  0.017544 -0.008585 -0.007881 -0.005442 -0.003203  0.003270  0.000000   \n",
              "3 -0.017241  0.003114  0.002535 -0.005915  0.001655  0.015558 -0.006839   \n",
              "4  0.000000 -0.001817 -0.002697  0.003570 -0.001166 -0.001313 -0.001476   \n",
              "\n",
              "       AAPL      MSFT  \n",
              "0       NaN       NaN  \n",
              "1 -0.000914 -0.002525  \n",
              "2 -0.000083  0.000000  \n",
              "3  0.010234 -0.003452  \n",
              "4  0.008730 -0.010855  "
            ]
          },
          "metadata": {
            "tags": []
          },
          "execution_count": 59
        }
      ]
    },
    {
      "cell_type": "code",
      "metadata": {
        "id": "6MaQpQ_-_jH3",
        "outputId": "275c7502-b899-4e00-eb0f-0077ccdee3c3"
      },
      "source": [
        "correlation_matrix = returns.corr()\n",
        "correlation_matrix"
      ],
      "execution_count": null,
      "outputs": [
        {
          "output_type": "execute_result",
          "data": {
            "text/html": [
              "<div>\n",
              "<style scoped>\n",
              "    .dataframe tbody tr th:only-of-type {\n",
              "        vertical-align: middle;\n",
              "    }\n",
              "\n",
              "    .dataframe tbody tr th {\n",
              "        vertical-align: top;\n",
              "    }\n",
              "\n",
              "    .dataframe thead th {\n",
              "        text-align: right;\n",
              "    }\n",
              "</style>\n",
              "<table border=\"1\" class=\"dataframe\">\n",
              "  <thead>\n",
              "    <tr style=\"text-align: right;\">\n",
              "      <th></th>\n",
              "      <th>AMD</th>\n",
              "      <th>COST</th>\n",
              "      <th>JPM</th>\n",
              "      <th>V</th>\n",
              "      <th>DIS</th>\n",
              "      <th>TGT</th>\n",
              "      <th>NVDA</th>\n",
              "      <th>AAPL</th>\n",
              "      <th>MSFT</th>\n",
              "    </tr>\n",
              "  </thead>\n",
              "  <tbody>\n",
              "    <tr>\n",
              "      <th>AMD</th>\n",
              "      <td>1.000000</td>\n",
              "      <td>0.226530</td>\n",
              "      <td>0.312655</td>\n",
              "      <td>0.369097</td>\n",
              "      <td>0.285641</td>\n",
              "      <td>0.209732</td>\n",
              "      <td>0.495115</td>\n",
              "      <td>0.374967</td>\n",
              "      <td>0.353224</td>\n",
              "    </tr>\n",
              "    <tr>\n",
              "      <th>COST</th>\n",
              "      <td>0.226530</td>\n",
              "      <td>1.000000</td>\n",
              "      <td>0.422233</td>\n",
              "      <td>0.474533</td>\n",
              "      <td>0.407078</td>\n",
              "      <td>0.487528</td>\n",
              "      <td>0.347889</td>\n",
              "      <td>0.487902</td>\n",
              "      <td>0.532679</td>\n",
              "    </tr>\n",
              "    <tr>\n",
              "      <th>JPM</th>\n",
              "      <td>0.312655</td>\n",
              "      <td>0.422233</td>\n",
              "      <td>1.000000</td>\n",
              "      <td>0.671951</td>\n",
              "      <td>0.623401</td>\n",
              "      <td>0.350607</td>\n",
              "      <td>0.439166</td>\n",
              "      <td>0.564473</td>\n",
              "      <td>0.614548</td>\n",
              "    </tr>\n",
              "    <tr>\n",
              "      <th>V</th>\n",
              "      <td>0.369097</td>\n",
              "      <td>0.474533</td>\n",
              "      <td>0.671951</td>\n",
              "      <td>1.000000</td>\n",
              "      <td>0.595008</td>\n",
              "      <td>0.329141</td>\n",
              "      <td>0.555420</td>\n",
              "      <td>0.661449</td>\n",
              "      <td>0.770454</td>\n",
              "    </tr>\n",
              "    <tr>\n",
              "      <th>DIS</th>\n",
              "      <td>0.285641</td>\n",
              "      <td>0.407078</td>\n",
              "      <td>0.623401</td>\n",
              "      <td>0.595008</td>\n",
              "      <td>1.000000</td>\n",
              "      <td>0.321022</td>\n",
              "      <td>0.392383</td>\n",
              "      <td>0.511172</td>\n",
              "      <td>0.542497</td>\n",
              "    </tr>\n",
              "    <tr>\n",
              "      <th>TGT</th>\n",
              "      <td>0.209732</td>\n",
              "      <td>0.487528</td>\n",
              "      <td>0.350607</td>\n",
              "      <td>0.329141</td>\n",
              "      <td>0.321022</td>\n",
              "      <td>1.000000</td>\n",
              "      <td>0.278768</td>\n",
              "      <td>0.331845</td>\n",
              "      <td>0.352289</td>\n",
              "    </tr>\n",
              "    <tr>\n",
              "      <th>NVDA</th>\n",
              "      <td>0.495115</td>\n",
              "      <td>0.347889</td>\n",
              "      <td>0.439166</td>\n",
              "      <td>0.555420</td>\n",
              "      <td>0.392383</td>\n",
              "      <td>0.278768</td>\n",
              "      <td>1.000000</td>\n",
              "      <td>0.539736</td>\n",
              "      <td>0.586320</td>\n",
              "    </tr>\n",
              "    <tr>\n",
              "      <th>AAPL</th>\n",
              "      <td>0.374967</td>\n",
              "      <td>0.487902</td>\n",
              "      <td>0.564473</td>\n",
              "      <td>0.661449</td>\n",
              "      <td>0.511172</td>\n",
              "      <td>0.331845</td>\n",
              "      <td>0.539736</td>\n",
              "      <td>1.000000</td>\n",
              "      <td>0.711009</td>\n",
              "    </tr>\n",
              "    <tr>\n",
              "      <th>MSFT</th>\n",
              "      <td>0.353224</td>\n",
              "      <td>0.532679</td>\n",
              "      <td>0.614548</td>\n",
              "      <td>0.770454</td>\n",
              "      <td>0.542497</td>\n",
              "      <td>0.352289</td>\n",
              "      <td>0.586320</td>\n",
              "      <td>0.711009</td>\n",
              "      <td>1.000000</td>\n",
              "    </tr>\n",
              "  </tbody>\n",
              "</table>\n",
              "</div>"
            ],
            "text/plain": [
              "           AMD      COST       JPM         V       DIS       TGT      NVDA  \\\n",
              "AMD   1.000000  0.226530  0.312655  0.369097  0.285641  0.209732  0.495115   \n",
              "COST  0.226530  1.000000  0.422233  0.474533  0.407078  0.487528  0.347889   \n",
              "JPM   0.312655  0.422233  1.000000  0.671951  0.623401  0.350607  0.439166   \n",
              "V     0.369097  0.474533  0.671951  1.000000  0.595008  0.329141  0.555420   \n",
              "DIS   0.285641  0.407078  0.623401  0.595008  1.000000  0.321022  0.392383   \n",
              "TGT   0.209732  0.487528  0.350607  0.329141  0.321022  1.000000  0.278768   \n",
              "NVDA  0.495115  0.347889  0.439166  0.555420  0.392383  0.278768  1.000000   \n",
              "AAPL  0.374967  0.487902  0.564473  0.661449  0.511172  0.331845  0.539736   \n",
              "MSFT  0.353224  0.532679  0.614548  0.770454  0.542497  0.352289  0.586320   \n",
              "\n",
              "          AAPL      MSFT  \n",
              "AMD   0.374967  0.353224  \n",
              "COST  0.487902  0.532679  \n",
              "JPM   0.564473  0.614548  \n",
              "V     0.661449  0.770454  \n",
              "DIS   0.511172  0.542497  \n",
              "TGT   0.331845  0.352289  \n",
              "NVDA  0.539736  0.586320  \n",
              "AAPL  1.000000  0.711009  \n",
              "MSFT  0.711009  1.000000  "
            ]
          },
          "metadata": {
            "tags": []
          },
          "execution_count": 60
        }
      ]
    },
    {
      "cell_type": "code",
      "metadata": {
        "id": "_BRWoCk8_jH3",
        "outputId": "e4fb60fc-035e-4db9-9f84-5ddb2a609631"
      },
      "source": [
        "# Create a heatmap\n",
        "sns.heatmap(correlation_matrix,\n",
        "            annot=True,\n",
        "            cmap=\"YlGnBu\", \n",
        "            linewidths=0.3,\n",
        "            annot_kws={\"size\": 8})\n",
        "\n",
        "# Plot aesthetics\n",
        "plt.xticks(rotation=90)\n",
        "plt.yticks(rotation=0) \n",
        "plt.show()"
      ],
      "execution_count": null,
      "outputs": [
        {
          "output_type": "display_data",
          "data": {
            "image/png": "[encoded data removed]",
            "text/plain": [
              "<Figure size 432x288 with 2 Axes>"
            ]
          },
          "metadata": {
            "tags": [],
            "needs_background": "light"
          }
        }
      ]
    },
    {
      "cell_type": "markdown",
      "metadata": {
        "id": "jCAOOeHN_jH4"
      },
      "source": [
        "# Co-Variance Matrix"
      ]
    },
    {
      "cell_type": "code",
      "metadata": {
        "id": "hxM4il-k_jH4",
        "outputId": "d6e866f1-bf2d-428f-9eb7-37790fdf0bce"
      },
      "source": [
        "returns.head()"
      ],
      "execution_count": null,
      "outputs": [
        {
          "output_type": "execute_result",
          "data": {
            "text/html": [
              "<div>\n",
              "<style scoped>\n",
              "    .dataframe tbody tr th:only-of-type {\n",
              "        vertical-align: middle;\n",
              "    }\n",
              "\n",
              "    .dataframe tbody tr th {\n",
              "        vertical-align: top;\n",
              "    }\n",
              "\n",
              "    .dataframe thead th {\n",
              "        text-align: right;\n",
              "    }\n",
              "</style>\n",
              "<table border=\"1\" class=\"dataframe\">\n",
              "  <thead>\n",
              "    <tr style=\"text-align: right;\">\n",
              "      <th></th>\n",
              "      <th>AMD</th>\n",
              "      <th>COST</th>\n",
              "      <th>JPM</th>\n",
              "      <th>V</th>\n",
              "      <th>DIS</th>\n",
              "      <th>TGT</th>\n",
              "      <th>NVDA</th>\n",
              "      <th>AAPL</th>\n",
              "      <th>MSFT</th>\n",
              "    </tr>\n",
              "  </thead>\n",
              "  <tbody>\n",
              "    <tr>\n",
              "      <th>0</th>\n",
              "      <td>NaN</td>\n",
              "      <td>NaN</td>\n",
              "      <td>NaN</td>\n",
              "      <td>NaN</td>\n",
              "      <td>NaN</td>\n",
              "      <td>NaN</td>\n",
              "      <td>NaN</td>\n",
              "      <td>NaN</td>\n",
              "      <td>NaN</td>\n",
              "    </tr>\n",
              "    <tr>\n",
              "      <th>1</th>\n",
              "      <td>-0.029787</td>\n",
              "      <td>-0.002254</td>\n",
              "      <td>0.008796</td>\n",
              "      <td>0.002359</td>\n",
              "      <td>0.002042</td>\n",
              "      <td>-0.005617</td>\n",
              "      <td>-0.006311</td>\n",
              "      <td>-0.000914</td>\n",
              "      <td>-0.002525</td>\n",
              "    </tr>\n",
              "    <tr>\n",
              "      <th>2</th>\n",
              "      <td>0.017544</td>\n",
              "      <td>-0.008585</td>\n",
              "      <td>-0.007881</td>\n",
              "      <td>-0.005442</td>\n",
              "      <td>-0.003203</td>\n",
              "      <td>0.003270</td>\n",
              "      <td>0.000000</td>\n",
              "      <td>-0.000083</td>\n",
              "      <td>0.000000</td>\n",
              "    </tr>\n",
              "    <tr>\n",
              "      <th>3</th>\n",
              "      <td>-0.017241</td>\n",
              "      <td>0.003114</td>\n",
              "      <td>0.002535</td>\n",
              "      <td>-0.005915</td>\n",
              "      <td>0.001655</td>\n",
              "      <td>0.015558</td>\n",
              "      <td>-0.006839</td>\n",
              "      <td>0.010234</td>\n",
              "      <td>-0.003452</td>\n",
              "    </tr>\n",
              "    <tr>\n",
              "      <th>4</th>\n",
              "      <td>0.000000</td>\n",
              "      <td>-0.001817</td>\n",
              "      <td>-0.002697</td>\n",
              "      <td>0.003570</td>\n",
              "      <td>-0.001166</td>\n",
              "      <td>-0.001313</td>\n",
              "      <td>-0.001476</td>\n",
              "      <td>0.008730</td>\n",
              "      <td>-0.010855</td>\n",
              "    </tr>\n",
              "  </tbody>\n",
              "</table>\n",
              "</div>"
            ],
            "text/plain": [
              "        AMD      COST       JPM         V       DIS       TGT      NVDA  \\\n",
              "0       NaN       NaN       NaN       NaN       NaN       NaN       NaN   \n",
              "1 -0.029787 -0.002254  0.008796  0.002359  0.002042 -0.005617 -0.006311   \n",
              "2  0.017544 -0.008585 -0.007881 -0.005442 -0.003203  0.003270  0.000000   \n",
              "3 -0.017241  0.003114  0.002535 -0.005915  0.001655  0.015558 -0.006839   \n",
              "4  0.000000 -0.001817 -0.002697  0.003570 -0.001166 -0.001313 -0.001476   \n",
              "\n",
              "       AAPL      MSFT  \n",
              "0       NaN       NaN  \n",
              "1 -0.000914 -0.002525  \n",
              "2 -0.000083  0.000000  \n",
              "3  0.010234 -0.003452  \n",
              "4  0.008730 -0.010855  "
            ]
          },
          "metadata": {
            "tags": []
          },
          "execution_count": 62
        }
      ]
    },
    {
      "cell_type": "code",
      "metadata": {
        "id": "SjfOXuqx_jH4",
        "outputId": "469dbc28-d60b-4833-9020-f83625a0cb44"
      },
      "source": [
        "cov_mat = returns.cov()\n",
        "cov_mat"
      ],
      "execution_count": null,
      "outputs": [
        {
          "output_type": "execute_result",
          "data": {
            "text/html": [
              "<div>\n",
              "<style scoped>\n",
              "    .dataframe tbody tr th:only-of-type {\n",
              "        vertical-align: middle;\n",
              "    }\n",
              "\n",
              "    .dataframe tbody tr th {\n",
              "        vertical-align: top;\n",
              "    }\n",
              "\n",
              "    .dataframe thead th {\n",
              "        text-align: right;\n",
              "    }\n",
              "</style>\n",
              "<table border=\"1\" class=\"dataframe\">\n",
              "  <thead>\n",
              "    <tr style=\"text-align: right;\">\n",
              "      <th></th>\n",
              "      <th>AMD</th>\n",
              "      <th>COST</th>\n",
              "      <th>JPM</th>\n",
              "      <th>V</th>\n",
              "      <th>DIS</th>\n",
              "      <th>TGT</th>\n",
              "      <th>NVDA</th>\n",
              "      <th>AAPL</th>\n",
              "      <th>MSFT</th>\n",
              "    </tr>\n",
              "  </thead>\n",
              "  <tbody>\n",
              "    <tr>\n",
              "      <th>AMD</th>\n",
              "      <td>0.001715</td>\n",
              "      <td>0.000126</td>\n",
              "      <td>0.000233</td>\n",
              "      <td>0.000250</td>\n",
              "      <td>0.000191</td>\n",
              "      <td>0.000166</td>\n",
              "      <td>0.000607</td>\n",
              "      <td>0.000281</td>\n",
              "      <td>0.000252</td>\n",
              "    </tr>\n",
              "    <tr>\n",
              "      <th>COST</th>\n",
              "      <td>0.000126</td>\n",
              "      <td>0.000181</td>\n",
              "      <td>0.000102</td>\n",
              "      <td>0.000104</td>\n",
              "      <td>0.000088</td>\n",
              "      <td>0.000126</td>\n",
              "      <td>0.000138</td>\n",
              "      <td>0.000119</td>\n",
              "      <td>0.000123</td>\n",
              "    </tr>\n",
              "    <tr>\n",
              "      <th>JPM</th>\n",
              "      <td>0.000233</td>\n",
              "      <td>0.000102</td>\n",
              "      <td>0.000323</td>\n",
              "      <td>0.000197</td>\n",
              "      <td>0.000181</td>\n",
              "      <td>0.000121</td>\n",
              "      <td>0.000233</td>\n",
              "      <td>0.000184</td>\n",
              "      <td>0.000190</td>\n",
              "    </tr>\n",
              "    <tr>\n",
              "      <th>V</th>\n",
              "      <td>0.000250</td>\n",
              "      <td>0.000104</td>\n",
              "      <td>0.000197</td>\n",
              "      <td>0.000267</td>\n",
              "      <td>0.000157</td>\n",
              "      <td>0.000103</td>\n",
              "      <td>0.000268</td>\n",
              "      <td>0.000195</td>\n",
              "      <td>0.000216</td>\n",
              "    </tr>\n",
              "    <tr>\n",
              "      <th>DIS</th>\n",
              "      <td>0.000191</td>\n",
              "      <td>0.000088</td>\n",
              "      <td>0.000181</td>\n",
              "      <td>0.000157</td>\n",
              "      <td>0.000261</td>\n",
              "      <td>0.000099</td>\n",
              "      <td>0.000188</td>\n",
              "      <td>0.000149</td>\n",
              "      <td>0.000151</td>\n",
              "    </tr>\n",
              "    <tr>\n",
              "      <th>TGT</th>\n",
              "      <td>0.000166</td>\n",
              "      <td>0.000126</td>\n",
              "      <td>0.000121</td>\n",
              "      <td>0.000103</td>\n",
              "      <td>0.000099</td>\n",
              "      <td>0.000367</td>\n",
              "      <td>0.000158</td>\n",
              "      <td>0.000115</td>\n",
              "      <td>0.000116</td>\n",
              "    </tr>\n",
              "    <tr>\n",
              "      <th>NVDA</th>\n",
              "      <td>0.000607</td>\n",
              "      <td>0.000138</td>\n",
              "      <td>0.000233</td>\n",
              "      <td>0.000268</td>\n",
              "      <td>0.000188</td>\n",
              "      <td>0.000158</td>\n",
              "      <td>0.000875</td>\n",
              "      <td>0.000289</td>\n",
              "      <td>0.000298</td>\n",
              "    </tr>\n",
              "    <tr>\n",
              "      <th>AAPL</th>\n",
              "      <td>0.000281</td>\n",
              "      <td>0.000119</td>\n",
              "      <td>0.000184</td>\n",
              "      <td>0.000195</td>\n",
              "      <td>0.000149</td>\n",
              "      <td>0.000115</td>\n",
              "      <td>0.000289</td>\n",
              "      <td>0.000328</td>\n",
              "      <td>0.000221</td>\n",
              "    </tr>\n",
              "    <tr>\n",
              "      <th>MSFT</th>\n",
              "      <td>0.000252</td>\n",
              "      <td>0.000123</td>\n",
              "      <td>0.000190</td>\n",
              "      <td>0.000216</td>\n",
              "      <td>0.000151</td>\n",
              "      <td>0.000116</td>\n",
              "      <td>0.000298</td>\n",
              "      <td>0.000221</td>\n",
              "      <td>0.000296</td>\n",
              "    </tr>\n",
              "  </tbody>\n",
              "</table>\n",
              "</div>"
            ],
            "text/plain": [
              "           AMD      COST       JPM         V       DIS       TGT      NVDA  \\\n",
              "AMD   0.001715  0.000126  0.000233  0.000250  0.000191  0.000166  0.000607   \n",
              "COST  0.000126  0.000181  0.000102  0.000104  0.000088  0.000126  0.000138   \n",
              "JPM   0.000233  0.000102  0.000323  0.000197  0.000181  0.000121  0.000233   \n",
              "V     0.000250  0.000104  0.000197  0.000267  0.000157  0.000103  0.000268   \n",
              "DIS   0.000191  0.000088  0.000181  0.000157  0.000261  0.000099  0.000188   \n",
              "TGT   0.000166  0.000126  0.000121  0.000103  0.000099  0.000367  0.000158   \n",
              "NVDA  0.000607  0.000138  0.000233  0.000268  0.000188  0.000158  0.000875   \n",
              "AAPL  0.000281  0.000119  0.000184  0.000195  0.000149  0.000115  0.000289   \n",
              "MSFT  0.000252  0.000123  0.000190  0.000216  0.000151  0.000116  0.000298   \n",
              "\n",
              "          AAPL      MSFT  \n",
              "AMD   0.000281  0.000252  \n",
              "COST  0.000119  0.000123  \n",
              "JPM   0.000184  0.000190  \n",
              "V     0.000195  0.000216  \n",
              "DIS   0.000149  0.000151  \n",
              "TGT   0.000115  0.000116  \n",
              "NVDA  0.000289  0.000298  \n",
              "AAPL  0.000328  0.000221  \n",
              "MSFT  0.000221  0.000296  "
            ]
          },
          "metadata": {
            "tags": []
          },
          "execution_count": 63
        }
      ]
    },
    {
      "cell_type": "code",
      "metadata": {
        "id": "JEJBPj0A_jH5",
        "outputId": "ae207f41-be41-481d-8ca1-c9e70a4aa76e"
      },
      "source": [
        "#Annualize the co-variance matrix\n",
        "cov_mat_annual = cov_mat * 252\n",
        "cov_mat_annual"
      ],
      "execution_count": null,
      "outputs": [
        {
          "output_type": "execute_result",
          "data": {
            "text/html": [
              "<div>\n",
              "<style scoped>\n",
              "    .dataframe tbody tr th:only-of-type {\n",
              "        vertical-align: middle;\n",
              "    }\n",
              "\n",
              "    .dataframe tbody tr th {\n",
              "        vertical-align: top;\n",
              "    }\n",
              "\n",
              "    .dataframe thead th {\n",
              "        text-align: right;\n",
              "    }\n",
              "</style>\n",
              "<table border=\"1\" class=\"dataframe\">\n",
              "  <thead>\n",
              "    <tr style=\"text-align: right;\">\n",
              "      <th></th>\n",
              "      <th>AMD</th>\n",
              "      <th>COST</th>\n",
              "      <th>JPM</th>\n",
              "      <th>V</th>\n",
              "      <th>DIS</th>\n",
              "      <th>TGT</th>\n",
              "      <th>NVDA</th>\n",
              "      <th>AAPL</th>\n",
              "      <th>MSFT</th>\n",
              "    </tr>\n",
              "  </thead>\n",
              "  <tbody>\n",
              "    <tr>\n",
              "      <th>AMD</th>\n",
              "      <td>0.432157</td>\n",
              "      <td>0.031796</td>\n",
              "      <td>0.058623</td>\n",
              "      <td>0.062880</td>\n",
              "      <td>0.048160</td>\n",
              "      <td>0.041913</td>\n",
              "      <td>0.152865</td>\n",
              "      <td>0.070821</td>\n",
              "      <td>0.063391</td>\n",
              "    </tr>\n",
              "    <tr>\n",
              "      <th>COST</th>\n",
              "      <td>0.031796</td>\n",
              "      <td>0.045589</td>\n",
              "      <td>0.025714</td>\n",
              "      <td>0.026257</td>\n",
              "      <td>0.022292</td>\n",
              "      <td>0.031644</td>\n",
              "      <td>0.034886</td>\n",
              "      <td>0.029930</td>\n",
              "      <td>0.031049</td>\n",
              "    </tr>\n",
              "    <tr>\n",
              "      <th>JPM</th>\n",
              "      <td>0.058623</td>\n",
              "      <td>0.025714</td>\n",
              "      <td>0.081351</td>\n",
              "      <td>0.049667</td>\n",
              "      <td>0.045603</td>\n",
              "      <td>0.030400</td>\n",
              "      <td>0.058829</td>\n",
              "      <td>0.046257</td>\n",
              "      <td>0.047851</td>\n",
              "    </tr>\n",
              "    <tr>\n",
              "      <th>V</th>\n",
              "      <td>0.062880</td>\n",
              "      <td>0.026257</td>\n",
              "      <td>0.049667</td>\n",
              "      <td>0.067158</td>\n",
              "      <td>0.039547</td>\n",
              "      <td>0.025930</td>\n",
              "      <td>0.067601</td>\n",
              "      <td>0.049249</td>\n",
              "      <td>0.054507</td>\n",
              "    </tr>\n",
              "    <tr>\n",
              "      <th>DIS</th>\n",
              "      <td>0.048160</td>\n",
              "      <td>0.022292</td>\n",
              "      <td>0.045603</td>\n",
              "      <td>0.039547</td>\n",
              "      <td>0.065779</td>\n",
              "      <td>0.025029</td>\n",
              "      <td>0.047265</td>\n",
              "      <td>0.037667</td>\n",
              "      <td>0.037983</td>\n",
              "    </tr>\n",
              "    <tr>\n",
              "      <th>TGT</th>\n",
              "      <td>0.041913</td>\n",
              "      <td>0.031644</td>\n",
              "      <td>0.030400</td>\n",
              "      <td>0.025930</td>\n",
              "      <td>0.025029</td>\n",
              "      <td>0.092413</td>\n",
              "      <td>0.039801</td>\n",
              "      <td>0.028983</td>\n",
              "      <td>0.029236</td>\n",
              "    </tr>\n",
              "    <tr>\n",
              "      <th>NVDA</th>\n",
              "      <td>0.152865</td>\n",
              "      <td>0.034886</td>\n",
              "      <td>0.058829</td>\n",
              "      <td>0.067601</td>\n",
              "      <td>0.047265</td>\n",
              "      <td>0.039801</td>\n",
              "      <td>0.220579</td>\n",
              "      <td>0.072830</td>\n",
              "      <td>0.075175</td>\n",
              "    </tr>\n",
              "    <tr>\n",
              "      <th>AAPL</th>\n",
              "      <td>0.070821</td>\n",
              "      <td>0.029930</td>\n",
              "      <td>0.046257</td>\n",
              "      <td>0.049249</td>\n",
              "      <td>0.037667</td>\n",
              "      <td>0.028983</td>\n",
              "      <td>0.072830</td>\n",
              "      <td>0.082546</td>\n",
              "      <td>0.055767</td>\n",
              "    </tr>\n",
              "    <tr>\n",
              "      <th>MSFT</th>\n",
              "      <td>0.063391</td>\n",
              "      <td>0.031049</td>\n",
              "      <td>0.047851</td>\n",
              "      <td>0.054507</td>\n",
              "      <td>0.037983</td>\n",
              "      <td>0.029236</td>\n",
              "      <td>0.075175</td>\n",
              "      <td>0.055767</td>\n",
              "      <td>0.074526</td>\n",
              "    </tr>\n",
              "  </tbody>\n",
              "</table>\n",
              "</div>"
            ],
            "text/plain": [
              "           AMD      COST       JPM         V       DIS       TGT      NVDA  \\\n",
              "AMD   0.432157  0.031796  0.058623  0.062880  0.048160  0.041913  0.152865   \n",
              "COST  0.031796  0.045589  0.025714  0.026257  0.022292  0.031644  0.034886   \n",
              "JPM   0.058623  0.025714  0.081351  0.049667  0.045603  0.030400  0.058829   \n",
              "V     0.062880  0.026257  0.049667  0.067158  0.039547  0.025930  0.067601   \n",
              "DIS   0.048160  0.022292  0.045603  0.039547  0.065779  0.025029  0.047265   \n",
              "TGT   0.041913  0.031644  0.030400  0.025930  0.025029  0.092413  0.039801   \n",
              "NVDA  0.152865  0.034886  0.058829  0.067601  0.047265  0.039801  0.220579   \n",
              "AAPL  0.070821  0.029930  0.046257  0.049249  0.037667  0.028983  0.072830   \n",
              "MSFT  0.063391  0.031049  0.047851  0.054507  0.037983  0.029236  0.075175   \n",
              "\n",
              "          AAPL      MSFT  \n",
              "AMD   0.070821  0.063391  \n",
              "COST  0.029930  0.031049  \n",
              "JPM   0.046257  0.047851  \n",
              "V     0.049249  0.054507  \n",
              "DIS   0.037667  0.037983  \n",
              "TGT   0.028983  0.029236  \n",
              "NVDA  0.072830  0.075175  \n",
              "AAPL  0.082546  0.055767  \n",
              "MSFT  0.055767  0.074526  "
            ]
          },
          "metadata": {
            "tags": []
          },
          "execution_count": 64
        }
      ]
    },
    {
      "cell_type": "markdown",
      "metadata": {
        "id": "FPXKxo_C_jH5"
      },
      "source": [
        "# Portfolio Standard Deviation"
      ]
    },
    {
      "cell_type": "markdown",
      "metadata": {
        "id": "pqWnaqVD_jH5"
      },
      "source": [
        "# The formula for portfoliovolatility is\n",
        "the square root of the porfolio weight trasposed x covariance matrix of returns x portfolio weights"
      ]
    },
    {
      "cell_type": "code",
      "metadata": {
        "id": "eSKFv56l_jH5",
        "outputId": "e3ec39dc-314a-4f63-a1b8-baed46b0c746"
      },
      "source": [
        "transposed = portfolio_weights.T\n",
        "transposed"
      ],
      "execution_count": null,
      "outputs": [
        {
          "output_type": "execute_result",
          "data": {
            "text/plain": [
              "array([0.12, 0.15, 0.08, 0.05, 0.09, 0.1 , 0.11, 0.14, 0.16])"
            ]
          },
          "metadata": {
            "tags": []
          },
          "execution_count": 65
        }
      ]
    },
    {
      "cell_type": "code",
      "metadata": {
        "id": "GWQ8VGEI_jH5",
        "outputId": "dfacf0ea-dbeb-44d4-86c3-38766b70074d"
      },
      "source": [
        "portfolio_volatility = np.sqrt(np.dot(portfolio_weights.T, np.dot(cov_mat_annual, \n",
        "                                                                  portfolio_weights)))\n",
        "portfolio_volatility"
      ],
      "execution_count": null,
      "outputs": [
        {
          "output_type": "execute_result",
          "data": {
            "text/plain": [
              "0.23909751369428972"
            ]
          },
          "metadata": {
            "tags": []
          },
          "execution_count": 66
        }
      ]
    },
    {
      "cell_type": "code",
      "metadata": {
        "id": "nBbERw9Z_jH5"
      },
      "source": [
        ""
      ],
      "execution_count": null,
      "outputs": []
    }
  ]
}