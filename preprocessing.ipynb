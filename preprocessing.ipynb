{
 "cells": [
  {
   "cell_type": "code",
   "execution_count": 6,
   "metadata": {},
   "outputs": [],
   "source": [
    "import pandas as pd\n",
    "import numpy as np\n",
    "import json\n",
    "import requests\n",
    "import matplotlib.pyplot as plt\n",
    "import seaborn as sns\n",
    "import os\n",
    "from config import api_key"
   ]
  },
  {
   "cell_type": "code",
   "execution_count": 7,
   "metadata": {},
   "outputs": [],
   "source": [
    "def get_ticker(ticker):\n",
    "    stock = requests.get(f'https://financialmodelingprep.com/api/v3/historical-price-full/{ticker}?seriestype=line&apikey={api_key}')\n",
    "    stock = stock.json()\n",
    "    stock = stock['historical']\n",
    "    stock = pd.DataFrame.from_dict(stock)\n",
    "    stock['date'] = pd.to_datetime(stock['date'])\n",
    "    stock.set_index('date', inplace=True)\n",
    "    return stock"
   ]
  },
  {
   "cell_type": "code",
   "execution_count": 8,
   "metadata": {},
   "outputs": [],
   "source": [
    "def simple_rate_of_return(start_price, end_price, dividend=0):\n",
    "    return end_price - start_price + dividend / start_price"
   ]
  },
  {
   "cell_type": "code",
   "execution_count": 1,
   "metadata": {},
   "outputs": [],
   "source": [
    "def calculate_log_return(start_price, end_price):\n",
    "    return log(end_price / start_price)"
   ]
  },
  {
   "cell_type": "code",
   "execution_count": 3,
   "metadata": {},
   "outputs": [],
   "source": [
    "def get_returns(prices):\n",
    "    returns = []\n",
    "    for i in range(len(prices) - 1):\n",
    "        returns.append(calculate_log_return(price[1] + prices[i + 1]))\n",
    "        return returns"
   ]
  },
  {
   "cell_type": "code",
   "execution_count": null,
   "metadata": {},
   "outputs": [],
   "source": []
  }
 ],
 "metadata": {
  "kernelspec": {
   "display_name": "Python 3",
   "language": "python",
   "name": "python3"
  },
  "language_info": {
   "codemirror_mode": {
    "name": "ipython",
    "version": 3
   },
   "file_extension": ".py",
   "mimetype": "text/x-python",
   "name": "python",
   "nbconvert_exporter": "python",
   "pygments_lexer": "ipython3",
   "version": "3.7.6"
  }
 },
 "nbformat": 4,
 "nbformat_minor": 4
}
