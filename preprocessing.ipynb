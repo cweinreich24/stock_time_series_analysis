{
 "cells": [
  {
   "cell_type": "code",
   "execution_count": 1,
   "metadata": {},
   "outputs": [],
   "source": [
    "import pandas as pd\n",
    "import numpy as np\n",
    "import json\n",
    "import requests\n",
    "import matplotlib.pyplot as plt\n",
    "import seaborn as sns\n",
    "import os"
   ]
  },
  {
   "cell_type": "code",
   "execution_count": 2,
   "metadata": {},
   "outputs": [],
   "source": [
    "def get_ticker(ticker):\n",
    "    stock = requests.get(f'https://financialmodelingprep.com/api/v3/historical-price-full/{ticker}?seriestype=line&apikey=77d47c5d1debc07182939544406223dc')\n",
    "    stock = stock.json()\n",
    "    stock = stock['historical']\n",
    "    stock = pd.DataFrame.from_dict(stock)\n",
    "    stock['date'] = pd.to_datetime(stock['date'])\n",
    "    stock.set_index('date', inplace=True)\n",
    "    return stock"
   ]
  },
  {
   "cell_type": "code",
   "execution_count": null,
   "metadata": {},
   "outputs": [],
   "source": []
  }
 ],
 "metadata": {
  "kernelspec": {
   "display_name": "Python 3",
   "language": "python",
   "name": "python3"
  },
  "language_info": {
   "codemirror_mode": {
    "name": "ipython",
    "version": 3
   },
   "file_extension": ".py",
   "mimetype": "text/x-python",
   "name": "python",
   "nbconvert_exporter": "python",
   "pygments_lexer": "ipython3",
   "version": "3.7.6"
  }
 },
 "nbformat": 4,
 "nbformat_minor": 4
}
